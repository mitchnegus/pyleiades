{
 "cells": [
  {
   "cell_type": "code",
   "execution_count": 2,
   "metadata": {
    "collapsed": false
   },
   "outputs": [
    {
     "data": {
      "text/markdown": [
       "# *enviro*\n",
       "\n",
       "## Energy data Visualization Routine\n",
       "\n",
       "###### A tool for creating visuals from historical energy data (e.g. the EIA monthly energy review).\n",
       " \n",
       "This tool is designed to provide insightful, aesthetic and more flexible visualizations of the Energy Information Administration (EIA) monthly energy review datasets. The datasets contain information about the sources of energy Americans have relied on for power since the middle of the 20th century. The datasets begin in 1949 with annual energy production, consumption, import, and export values, and extend up until the present. Monthly energy datapoints are reported starting in 1973.\n",
       "\n",
       "The basic energy sources are reported in the following groups:  \n",
       "\n",
       "###### Fossil Fuels\n",
       "* Coal\n",
       "* Natural Gas\n",
       "* Petroleum\n",
       "\n",
       "###### Renewables\n",
       "* Wind\n",
       "* Solar\n",
       "* Hydroelectric\n",
       "* Geothermal\n",
       "* Biomass\n",
       "\n",
       "###### Nuclear\n",
       "* Fission\n",
       "\n",
       "The data is published monthly on the [EIA's website](https://www.eia.gov/totalenergy/data/monthly/), and as of July 5th, 2017 records were provided up through March 2017.\n",
       "\n",
       "All reported values are in units of quadrillion british thermal units (1.0E15 btu). Be aware that the datasets may provide [more precision](https://www.eia.gov/totalenergy/data/monthly/dataunits.php) than is published in the PDF reports.\n",
       "\n",
       "--------------------------------------------------------------\n"
      ],
      "text/plain": [
       "<IPython.core.display.Markdown object>"
      ]
     },
     "metadata": {},
     "output_type": "display_data"
    }
   ],
   "source": [
    "from IPython.display import display, Markdown\n",
    "\n",
    "with open('README.md', 'r') as fh:\n",
    "    content = fh.read()\n",
    "\n",
    "display(Markdown(content))"
   ]
  },
  {
   "cell_type": "markdown",
   "metadata": {},
   "source": [
    "## Structure\n",
    "\n",
    "This toolkit is designed so that a user can specify any of the reported energy sources and simply construct visuals to demonstrate trends in that energy's usage over time, as well make comparisons between the use of energy sources over time. \n",
    "\n",
    "To accomplish this goal, there are two classes that are defined: an energy class (EClass) and a visualization class (VClass). \n",
    "\n",
    "#### EClass\n",
    "The EClass collects information from the specified energy source. Within this class will be methods for retrieving data according to specific attributes of the energy source, such as energy consumed from that source per decade, per year, or all years in which more than a certain amount of energy was consumed from that source.\n",
    "\n",
    "#### VClass\n",
    "The VClass takes one or more EClasses as input upon initialization. The VClass will then feature methods to visualize the data, including the ability to make comparisons if more than one EClass is given. These visualizations could include histograms, line graphs, pie charts and animations.\n",
    "\n",
    "--------------------------------------------------------------"
   ]
  },
  {
   "cell_type": "markdown",
   "metadata": {},
   "source": [
    "### Programmatic Overhead\n",
    "\n",
    "Import packages and modules that will be used in construction and visualization."
   ]
  },
  {
   "cell_type": "code",
   "execution_count": 3,
   "metadata": {
    "collapsed": true
   },
   "outputs": [],
   "source": [
    "import numpy as np"
   ]
  },
  {
   "cell_type": "markdown",
   "metadata": {},
   "source": [
    "Upload the dataset (a CSV) in the form of a numpy array."
   ]
  },
  {
   "cell_type": "code",
   "execution_count": 29,
   "metadata": {
    "collapsed": false
   },
   "outputs": [
    {
     "name": "stdout",
     "output_type": "stream",
     "text": [
      "[[  1.94913000e+05   1.19809050e+01   1.00000000e+00]\n",
      " [  1.95013000e+05   1.23471090e+01   1.00000000e+00]\n",
      " [  1.95113000e+05   1.25529960e+01   1.00000000e+00]\n",
      " ..., \n",
      " [  2.01613000e+05   9.73990850e+01   1.20000000e+01]\n",
      " [  2.01701000e+05   8.95493200e+00   1.20000000e+01]\n",
      " [  2.01702000e+05   7.62353900e+00   1.20000000e+01]]\n"
     ]
    }
   ],
   "source": [
    "EIA_DATA_PATH = '/Users/mitch/Documents/Energy_Analysis/enviro/'\n",
    "EIA_DATA_FILE = 'EIA_MER.csv'\n",
    "\n",
    "eia_data = np.genfromtxt(EIA_DATA_PATH+EIA_DATA_FILE,float,delimiter=',')[1:,1:4]\n",
    "print(eia_data)\n"
   ]
  },
  {
   "cell_type": "markdown",
   "metadata": {},
   "source": [
    "### Energy Class"
   ]
  },
  {
   "cell_type": "code",
   "execution_count": 48,
   "metadata": {
    "collapsed": true
   },
   "outputs": [],
   "source": [
    "# Contents of eclass.py module\n",
    "'from energy_codes import name_to_code'#remove ''\n",
    "\n",
    "\n",
    "class EClass:\n",
    "    \n",
    "    \"\"\"\n",
    "    Collect energy consumption data for a user-defined energy source.\n",
    "    \n",
    "    Retrieves data from the specified energy source according to specific \n",
    "    attributes, such as energy consumed per decade, per year, or all years in \n",
    "    which more than a certain amount of energy was consumed from that source.\n",
    "    \"\"\"\n",
    "    \n",
    "    def __init__(self,Ecode,dataset=eia_data):\n",
    "        \"\"\"\n",
    "        Receive energy source (as numeric code) and collect corresponding data from the input dataset\n",
    "        \n",
    "        Parameters\n",
    "        ----------\n",
    "        Ecode : int\n",
    "            The energy source to be pulled from the dataset.\n",
    "        dataset : array_like, optional\n",
    "            The dataset from which to pull information. Must be three ordered columns\n",
    "            –date, energy quantity, energy code–with no headings.\n",
    "        \"\"\"\n",
    "        # Eliminate 'nan' data from source\n",
    "        dataset = dataset[np.logical_not(np.isnan(dataset[:,1]))]\n",
    "        \n",
    "        # Isolate this energy's data from source, and remove (now superfluous) Ecode\n",
    "        self.data = dataset[dataset[:,2]==Ecode,:2]\n",
    "                \n",
    "        # Get the oldest and newest datapoint dates for this energy\" \n",
    "        self.start_yr = int(float(str(min(self.data[:,0]))[:4]))\n",
    "        self.end_yr = int(float(str(max(self.data[:,0]))[:4]))\n",
    "        self.start_mo = int(float(str(min(self.data[:,0]))[4:]))\n",
    "        self.end_mo = int(float(str(max(self.data[:,0]))[4:]))\n",
    "        \n",
    "        \n",
    "     \n",
    "    def totals(self,start_date,end_date,freq='yearly'):\n",
    "        \"\"\"\n",
    "        Get the energy consumption totals over a given period.\n",
    "        \n",
    "        Parameters\n",
    "        ----------\n",
    "        start_date, end_date : str\n",
    "            The user specified dataset starting/ending points; \n",
    "            acceptable formats include 'YYYYMMDD', 'MM-DD-YYYY', or 'MM/DD/YYYY'.\n",
    "        freq : str\n",
    "            The frequency for gathering totals ('lifetime','yearly',or 'monthly').\n",
    "        \"\"\"\n",
    "        \n",
    "        return lifetime_total\n",
    "        \n",
    "    def extrema(self,extremum,start_date,end_date,interval):\n",
    "        \"\"\"\n",
    "        Get the maximum/minimum energy ever consumed over a given interval.\n",
    "        \n",
    "        Parameters\n",
    "        ----------\n",
    "        extremum : str\n",
    "            The exteme value to find ('max' or 'min).\n",
    "        start_date, end_date : str\n",
    "            The user specified dataset starting/ending points; \n",
    "            acceptable formats include 'YYYYMMDD', 'MM-DD-YYYY', or 'MM/DD/YYYY'.\n",
    "        interval : str\n",
    "            The time intervals considered for extrema comparison ('yearly',or 'monthly').\n",
    "        \"\"\"\n",
    "\n",
    "\n",
    "        \n",
    "    def more_than(self,amount,start_date,end_date,interval):\n",
    "        \"\"\"\n",
    "        Get data for time interval where more than the given amount of energy was consumed\n",
    "        \n",
    "        Parameters\n",
    "        ----------\n",
    "        amount: float\n",
    "            The lower boundary (exclusive) for which data may be included in the dataset.\n",
    "        start_date, end_date : str\n",
    "            The user specified dataset starting/ending points; \n",
    "            acceptable formats include 'YYYYMMDD', 'MM-DD-YYYY', or 'MM/DD/YYYY'.\n",
    "        interval : str\n",
    "            The time intervals considered for extrema comparison ('yearly',or 'monthly').\n",
    "        \"\"\"\n",
    "        \n",
    "    \n",
    "    \n",
    "    \"\"\"\n",
    "    Additonal potential options to add:\n",
    "        - average yearly energy consumed\n",
    "        - average seasonal energy consumed\n",
    "    \"\"\"\n",
    " \n"
   ]
  },
  {
   "cell_type": "code",
   "execution_count": 51,
   "metadata": {
    "collapsed": false
   },
   "outputs": [],
   "source": [
    " # Contents of test_eclass.py module\n",
    "'from eclass.py import EClass'\n",
    "\n",
    "\n",
    "class TestEClass:\n",
    "     \n",
    "    def test_preproc(self):\n",
    "        testdata = np.array([[195001,1,1],\n",
    "                             [195101,None,1],\n",
    "                             [195201,1,1]],\n",
    "                           float)\n",
    "        EC = EClass(1,testdata)\n",
    "        # eliminate nan, remove ecode column\n",
    "        assert np.array_equal(EC.data,testdata[[0,2],:2])\n",
    "\n",
    "    def test_start_yr(self):\n",
    "        testdata = np.array([[195001,1,1],\n",
    "                             [195101,1,1]],\n",
    "                           float)\n",
    "        EC = EClass(1,testdata)\n",
    "        assert EC.start_yr == 1950\n",
    "    \n",
    "    def test_end_yr(self):\n",
    "        testdata = np.array([[195001,1,1],\n",
    "                             [195101,1,1]],\n",
    "                           float)\n",
    "        EC = EClass(1,testdata)\n",
    "        assert EC.end_yr == 1951\n",
    "    \n",
    "    def test_start_mo(self):\n",
    "        testdata = np.array([[195001,1,1],\n",
    "                             [195102,1,1]],\n",
    "                           float)\n",
    "        EC = EClass(1,testdata)\n",
    "        assert EC.start_mo == 1\n",
    "    \n",
    "    def test_end_mo(self):\n",
    "        testdata = np.array([[195001,1,1],\n",
    "                             [195102,1,1]],\n",
    "                           float)\n",
    "        EC = EClass(1,testdata)\n",
    "        assert EC.end_mo == 2\n",
    "\n",
    "    #def test_yearly_totals(self,start_date,end_date,freq='yearly'):\n",
    "        #assert np.array_equal(yr_tots,np.array([1951]))\n",
    "    \n",
    "# expected test behavior\n",
    "TEC=TestEClass()\n",
    "TEC.test_preproc()\n",
    "TEC.test_start_yr()\n",
    "TEC.test_end_yr()\n",
    "TEC.test_start_mo()\n",
    "TEC.test_end_mo()\n"
   ]
  },
  {
   "cell_type": "markdown",
   "metadata": {},
   "source": [
    "### Visualization Class"
   ]
  },
  {
   "cell_type": "code",
   "execution_count": 5,
   "metadata": {
    "collapsed": false
   },
   "outputs": [],
   "source": [
    "# Contents of vclass.py module\n",
    "\n",
    "\n",
    "class VClass:\n",
    "    \n",
    "    \"\"\"\n",
    "    Create visuals based on energy data.\n",
    "    \n",
    "    Takes one or more EClasses as input upon initialization, providing\n",
    "    methods to visualize the data (including the ability to make comparisons\n",
    "    across energy sources if more than one EClass is given. Visualizations \n",
    "    include histograms, line graphs, pie charts, and animations.   \n",
    "    \"\"\"\n",
    "    \n",
    "    def __init__(self,*energies):\n",
    "        \"\"\"\n",
    "        Receive energy source(s) and assemble the appropriate class(es).\n",
    "        \n",
    "        Parameters\n",
    "        ----------\n",
    "        *energies : str\n",
    "            The energy source(s) to be visualized.\n",
    "        \"\"\"\n",
    "                \n",
    "        # Convert energy name to code\n",
    "        Eset = set()\n",
    "        for Ename in args:\n",
    "            Ecode = name_to_code(Ename)\n",
    "            Eset.add(Ecode)    \n",
    "        # Assemble energy classes\n",
    "        self.EClasses = [EClass(Ecode) for Ecode in Eset]\n",
    "        \n",
    "    def select_data(self,interval,method,amount=None):\n",
    "        \"\"\"\n",
    "        Filter data according to user requirements.\n",
    "        \n",
    "        Parameters\n",
    "        ----------\n",
    "        interval : str\n",
    "            The filter applied by the user to select a dataset timeframe\n",
    "            (i.e. `monthly`,`yearly`, or `lifetime`); `lifetime` can only be used\n",
    "            with method-keyword `totals`.\n",
    "        method : str\n",
    "            The filter applied by the user to gather data attributes \n",
    "            (i.e. `totals`,`max`,`more_than`).\n",
    "        amount : float\n",
    "            The filter applied by the user specifying a lower bound for energy consumption\n",
    "        \"\"\"\n",
    "    \n",
    "        if method == 'total':\n",
    "            if interval == 'lifetime':\n",
    "                for EClass in self.EClasses:\n",
    "                    pass\n",
    "                    \n",
    "        \n",
    "        "
   ]
  },
  {
   "cell_type": "code",
   "execution_count": 23,
   "metadata": {
    "collapsed": true
   },
   "outputs": [],
   "source": [
    "# %load eia_codes.py\n",
    "\"\"\"\n",
    "Provide utilities for working with EIA dataset codes.\n",
    "\n",
    "Functions\n",
    "---------\n",
    "name_to_code\n",
    "    Converts energy names into EIA energy codes\n",
    "\"\"\"\n",
    "\n",
    "def name_to_code(name):\n",
    "    \"\"\"\n",
    "    Convert an energy source name to its corresponding EIA dataset numeric code.\n",
    "    \n",
    "    Parameters\n",
    "    ----------\n",
    "    name : str\n",
    "        The name of an EIA energy or energy group.\n",
    "        \n",
    "    Returns\n",
    "    -------\n",
    "    code : int\n",
    "        The code corresponding to the energy source provided.\n",
    "    \"\"\"\n",
    "    key_name = name.lower()\n",
    "    Ecodes = {'coal':1,\n",
    "              'natural gas':2,\n",
    "              'petroleum':3,\n",
    "              'fossil fuel':4,\n",
    "              'nuclear':5,\n",
    "              'hydro':6,\n",
    "              'geothermal':7,\n",
    "              'solar':8,\n",
    "              'wind':9,\n",
    "              'biomass':10,\n",
    "              'renewable':11,\n",
    "              'primary':12}\n",
    "        \n",
    "    if key_name not in Ecodes:\n",
    "        raise KeyError('\"%s\" was not found in the EIA dataset; \\\n",
    "                        see documentation for implemented energy sources')\n",
    "    else:\n",
    "        code = Ecodes[key_name]\n",
    "    return code\n",
    "\n"
   ]
  },
  {
   "cell_type": "code",
   "execution_count": 24,
   "metadata": {
    "collapsed": true
   },
   "outputs": [],
   "source": [
    "# %load test_eia_codes.py\n",
    "from eia_codes import name_to_code as ntc\n",
    "\n",
    "\n",
    "class TestNTC:\n",
    "    \n",
    "    def test_ntc_code(self):\n",
    "        assert ntc('coal') == 1\n",
    "    \n",
    "    def test_ntc_case(self):\n",
    "        assert ntc('Renewable') == 11\n"
   ]
  },
  {
   "cell_type": "code",
   "execution_count": 10,
   "metadata": {
    "collapsed": false
   },
   "outputs": [],
   "source": [
    "# Contents of plot_graphs.py module\n",
    "from matplotlib import pyplot as plt\n",
    "\n",
    "\n",
    "def line_graph(ax,indep,*dep):\n",
    "    pass\n",
    "    \n",
    "    \n",
    "def bar_chart(ax,indep,*dep):\n",
    "    pass\n",
    "    \n",
    "    \n",
    "def pie_chart(ax,indep,*dep):\n",
    "    pass\n",
    "    \n",
    "    \n",
    "def style(ax,title,xlabel,ylabel,ticks=None,):\n",
    "    pass\n",
    "\n"
   ]
  },
  {
   "cell_type": "markdown",
   "metadata": {},
   "source": []
  }
 ],
 "metadata": {
  "kernelspec": {
   "display_name": "Python 3",
   "language": "python",
   "name": "python3"
  },
  "language_info": {
   "codemirror_mode": {
    "name": "ipython",
    "version": 3
   },
   "file_extension": ".py",
   "mimetype": "text/x-python",
   "name": "python",
   "nbconvert_exporter": "python",
   "pygments_lexer": "ipython3",
   "version": "3.6.0"
  }
 },
 "nbformat": 4,
 "nbformat_minor": 2
}
