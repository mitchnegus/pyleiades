{
 "cells": [
  {
   "cell_type": "code",
   "execution_count": 50,
   "metadata": {
    "collapsed": false
   },
   "outputs": [],
   "source": [
    "import load_data as ld\n",
    "import pandas as pd"
   ]
  },
  {
   "cell_type": "code",
   "execution_count": 51,
   "metadata": {
    "collapsed": false
   },
   "outputs": [],
   "source": [
    "x = ld.load_dataset()\n"
   ]
  },
  {
   "cell_type": "code",
   "execution_count": 52,
   "metadata": {
    "collapsed": false
   },
   "outputs": [],
   "source": [
    "y = x.dropna()"
   ]
  },
  {
   "cell_type": "code",
   "execution_count": 53,
   "metadata": {
    "collapsed": false
   },
   "outputs": [],
   "source": [
    "z = y[['Date','Value']]"
   ]
  },
  {
   "cell_type": "code",
   "execution_count": 54,
   "metadata": {
    "collapsed": false
   },
   "outputs": [
    {
     "data": {
      "text/html": [
       "<div>\n",
       "<style scoped>\n",
       "    .dataframe tbody tr th:only-of-type {\n",
       "        vertical-align: middle;\n",
       "    }\n",
       "\n",
       "    .dataframe tbody tr th {\n",
       "        vertical-align: top;\n",
       "    }\n",
       "\n",
       "    .dataframe thead th {\n",
       "        text-align: right;\n",
       "    }\n",
       "</style>\n",
       "<table border=\"1\" class=\"dataframe\">\n",
       "  <thead>\n",
       "    <tr style=\"text-align: right;\">\n",
       "      <th></th>\n",
       "      <th>Date</th>\n",
       "      <th>Value</th>\n",
       "    </tr>\n",
       "  </thead>\n",
       "  <tbody>\n",
       "    <tr>\n",
       "      <th>0</th>\n",
       "      <td>194913</td>\n",
       "      <td>11.980905</td>\n",
       "    </tr>\n",
       "    <tr>\n",
       "      <th>1</th>\n",
       "      <td>195013</td>\n",
       "      <td>12.347109</td>\n",
       "    </tr>\n",
       "    <tr>\n",
       "      <th>2</th>\n",
       "      <td>195113</td>\n",
       "      <td>12.552996</td>\n",
       "    </tr>\n",
       "    <tr>\n",
       "      <th>3</th>\n",
       "      <td>195213</td>\n",
       "      <td>11.306479</td>\n",
       "    </tr>\n",
       "    <tr>\n",
       "      <th>4</th>\n",
       "      <td>195313</td>\n",
       "      <td>11.372684</td>\n",
       "    </tr>\n",
       "  </tbody>\n",
       "</table>\n",
       "</div>"
      ],
      "text/plain": [
       "     Date      Value\n",
       "0  194913  11.980905\n",
       "1  195013  12.347109\n",
       "2  195113  12.552996\n",
       "3  195213  11.306479\n",
       "4  195313  11.372684"
      ]
     },
     "execution_count": 54,
     "metadata": {},
     "output_type": "execute_result"
    }
   ],
   "source": [
    "z.head()"
   ]
  },
  {
   "cell_type": "code",
   "execution_count": 55,
   "metadata": {
    "collapsed": false
   },
   "outputs": [
    {
     "data": {
      "text/plain": [
       "0       194913\n",
       "1       195013\n",
       "2       195113\n",
       "3       195213\n",
       "4       195313\n",
       "5       195413\n",
       "6       195513\n",
       "7       195613\n",
       "8       195713\n",
       "9       195813\n",
       "10      195913\n",
       "11      196013\n",
       "12      196113\n",
       "13      196213\n",
       "14      196313\n",
       "15      196413\n",
       "16      196513\n",
       "17      196613\n",
       "18      196713\n",
       "19      196813\n",
       "20      196913\n",
       "21      197013\n",
       "22      197113\n",
       "23      197213\n",
       "24      197301\n",
       "25      197302\n",
       "26      197303\n",
       "27      197304\n",
       "28      197305\n",
       "29      197306\n",
       "         ...  \n",
       "7170    201501\n",
       "7171    201502\n",
       "7172    201503\n",
       "7173    201504\n",
       "7174    201505\n",
       "7175    201506\n",
       "7176    201507\n",
       "7177    201508\n",
       "7178    201509\n",
       "7179    201510\n",
       "7180    201511\n",
       "7181    201512\n",
       "7182    201513\n",
       "7183    201601\n",
       "7184    201602\n",
       "7185    201603\n",
       "7186    201604\n",
       "7187    201605\n",
       "7188    201606\n",
       "7189    201607\n",
       "7190    201608\n",
       "7191    201609\n",
       "7192    201610\n",
       "7193    201611\n",
       "7194    201612\n",
       "7195    201613\n",
       "7196    201701\n",
       "7197    201702\n",
       "7198    201703\n",
       "7199    201704\n",
       "Name: Date, Length: 6868, dtype: int64"
      ]
     },
     "execution_count": 55,
     "metadata": {},
     "output_type": "execute_result"
    }
   ],
   "source": [
    "z.Date"
   ]
  },
  {
   "cell_type": "code",
   "execution_count": 56,
   "metadata": {
    "collapsed": false
   },
   "outputs": [
    {
     "data": {
      "text/plain": [
       "0       194913\n",
       "1       195013\n",
       "2       195113\n",
       "3       195213\n",
       "4       195313\n",
       "5       195413\n",
       "6       195513\n",
       "7       195613\n",
       "8       195713\n",
       "9       195813\n",
       "10      195913\n",
       "11      196013\n",
       "12      196113\n",
       "13      196213\n",
       "14      196313\n",
       "15      196413\n",
       "16      196513\n",
       "17      196613\n",
       "18      196713\n",
       "19      196813\n",
       "20      196913\n",
       "21      197013\n",
       "22      197113\n",
       "23      197213\n",
       "24      197301\n",
       "25      197302\n",
       "26      197303\n",
       "27      197304\n",
       "28      197305\n",
       "29      197306\n",
       "         ...  \n",
       "7170    201501\n",
       "7171    201502\n",
       "7172    201503\n",
       "7173    201504\n",
       "7174    201505\n",
       "7175    201506\n",
       "7176    201507\n",
       "7177    201508\n",
       "7178    201509\n",
       "7179    201510\n",
       "7180    201511\n",
       "7181    201512\n",
       "7182    201513\n",
       "7183    201601\n",
       "7184    201602\n",
       "7185    201603\n",
       "7186    201604\n",
       "7187    201605\n",
       "7188    201606\n",
       "7189    201607\n",
       "7190    201608\n",
       "7191    201609\n",
       "7192    201610\n",
       "7193    201611\n",
       "7194    201612\n",
       "7195    201613\n",
       "7196    201701\n",
       "7197    201702\n",
       "7198    201703\n",
       "7199    201704\n",
       "Name: Date, Length: 6868, dtype: object"
      ]
     },
     "execution_count": 56,
     "metadata": {},
     "output_type": "execute_result"
    }
   ],
   "source": [
    "z.Date.astype(str)"
   ]
  },
  {
   "cell_type": "code",
   "execution_count": 57,
   "metadata": {
    "collapsed": false
   },
   "outputs": [
    {
     "data": {
      "text/plain": [
       "0       194913\n",
       "1       195013\n",
       "2       195113\n",
       "3       195213\n",
       "4       195313\n",
       "5       195413\n",
       "6       195513\n",
       "7       195613\n",
       "8       195713\n",
       "9       195813\n",
       "10      195913\n",
       "11      196013\n",
       "12      196113\n",
       "13      196213\n",
       "14      196313\n",
       "15      196413\n",
       "16      196513\n",
       "17      196613\n",
       "18      196713\n",
       "19      196813\n",
       "20      196913\n",
       "21      197013\n",
       "22      197113\n",
       "23      197213\n",
       "24      197301\n",
       "25      197302\n",
       "26      197303\n",
       "27      197304\n",
       "28      197305\n",
       "29      197306\n",
       "         ...  \n",
       "7170    201501\n",
       "7171    201502\n",
       "7172    201503\n",
       "7173    201504\n",
       "7174    201505\n",
       "7175    201506\n",
       "7176    201507\n",
       "7177    201508\n",
       "7178    201509\n",
       "7179    201510\n",
       "7180    201511\n",
       "7181    201512\n",
       "7182    201513\n",
       "7183    201601\n",
       "7184    201602\n",
       "7185    201603\n",
       "7186    201604\n",
       "7187    201605\n",
       "7188    201606\n",
       "7189    201607\n",
       "7190    201608\n",
       "7191    201609\n",
       "7192    201610\n",
       "7193    201611\n",
       "7194    201612\n",
       "7195    201613\n",
       "7196    201701\n",
       "7197    201702\n",
       "7198    201703\n",
       "7199    201704\n",
       "Name: Date, Length: 6868, dtype: int64"
      ]
     },
     "execution_count": 57,
     "metadata": {},
     "output_type": "execute_result"
    }
   ],
   "source": [
    "z.Date"
   ]
  },
  {
   "cell_type": "code",
   "execution_count": null,
   "metadata": {
    "collapsed": true
   },
   "outputs": [],
   "source": []
  }
 ],
 "metadata": {
  "kernelspec": {
   "display_name": "Python 3",
   "language": "python",
   "name": "python3"
  },
  "language_info": {
   "codemirror_mode": {
    "name": "ipython",
    "version": 3
   },
   "file_extension": ".py",
   "mimetype": "text/x-python",
   "name": "python",
   "nbconvert_exporter": "python",
   "pygments_lexer": "ipython3",
   "version": "3.6.0"
  }
 },
 "nbformat": 4,
 "nbformat_minor": 2
}
